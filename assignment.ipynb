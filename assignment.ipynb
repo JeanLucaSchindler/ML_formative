{
 "cells": [
  {
   "cell_type": "markdown",
   "metadata": {},
   "source": [
    "# Exercise 1"
   ]
  },
  {
   "cell_type": "markdown",
   "metadata": {},
   "source": [
    "Given the complexity of analyzing visual data like protest pageantry, and the desire to avoid overly simplistic models, a combination of supervised and unsupervised machine learning techniques would likely be most relevant.  Specifically, convolutional neural networks (CNNs), a form of deep learning, would be suitable for image feature extraction.  Since the researcher has captions describing the protest's topic, this labeled data could be used in a supervised learning approach to train a CNN to recognize visual cues associated with different protest themes.  However, the researcher might also want to discover *unforeseen* visual similarities across protests, even those with different stated aims.  For this, unsupervised learning methods like clustering algorithms (e.g., k-means) could be applied to the extracted image features to group protests based on visual similarity, potentially revealing interesting patterns.  The captions could then be used *post hoc* to understand the themes of these visually-derived clusters.  There's ambiguity in how precisely the captions will be used – will they be the *sole* basis for supervised learning, or will they supplement other labeled data?  Also, the researcher could use transfer learning, leveraging pre-trained CNNs on large image datasets, to fine-tune the model for this specific task, potentially reducing the need for extensive labeled data.\n"
   ]
  },
  {
   "cell_type": "markdown",
   "metadata": {},
   "source": [
    "# Exercise 2"
   ]
  },
  {
   "cell_type": "code",
   "execution_count": 5,
   "metadata": {},
   "outputs": [
    {
     "data": {
      "text/html": [
       "<div>\n",
       "<style scoped>\n",
       "    .dataframe tbody tr th:only-of-type {\n",
       "        vertical-align: middle;\n",
       "    }\n",
       "\n",
       "    .dataframe tbody tr th {\n",
       "        vertical-align: top;\n",
       "    }\n",
       "\n",
       "    .dataframe thead th {\n",
       "        text-align: right;\n",
       "    }\n",
       "</style>\n",
       "<table border=\"1\" class=\"dataframe\">\n",
       "  <thead>\n",
       "    <tr style=\"text-align: right;\">\n",
       "      <th></th>\n",
       "      <th>x1</th>\n",
       "      <th>x2</th>\n",
       "      <th>x3</th>\n",
       "      <th>x4</th>\n",
       "      <th>x5</th>\n",
       "      <th>outcome</th>\n",
       "    </tr>\n",
       "  </thead>\n",
       "  <tbody>\n",
       "    <tr>\n",
       "      <th>0</th>\n",
       "      <td>-1.451602</td>\n",
       "      <td>0.753562</td>\n",
       "      <td>1</td>\n",
       "      <td>4.104114</td>\n",
       "      <td>16.338545</td>\n",
       "      <td>9.403554</td>\n",
       "    </tr>\n",
       "    <tr>\n",
       "      <th>1</th>\n",
       "      <td>0.708100</td>\n",
       "      <td>0.041478</td>\n",
       "      <td>0</td>\n",
       "      <td>-0.616641</td>\n",
       "      <td>-8.945764</td>\n",
       "      <td>-0.310894</td>\n",
       "    </tr>\n",
       "    <tr>\n",
       "      <th>2</th>\n",
       "      <td>1.593097</td>\n",
       "      <td>0.627988</td>\n",
       "      <td>1</td>\n",
       "      <td>2.107764</td>\n",
       "      <td>-19.439949</td>\n",
       "      <td>8.174084</td>\n",
       "    </tr>\n",
       "    <tr>\n",
       "      <th>3</th>\n",
       "      <td>-0.837596</td>\n",
       "      <td>0.038860</td>\n",
       "      <td>1</td>\n",
       "      <td>2.745286</td>\n",
       "      <td>8.180159</td>\n",
       "      <td>4.413289</td>\n",
       "    </tr>\n",
       "    <tr>\n",
       "      <th>4</th>\n",
       "      <td>1.929470</td>\n",
       "      <td>0.076839</td>\n",
       "      <td>1</td>\n",
       "      <td>3.530637</td>\n",
       "      <td>-23.366917</td>\n",
       "      <td>18.086722</td>\n",
       "    </tr>\n",
       "    <tr>\n",
       "      <th>...</th>\n",
       "      <td>...</td>\n",
       "      <td>...</td>\n",
       "      <td>...</td>\n",
       "      <td>...</td>\n",
       "      <td>...</td>\n",
       "      <td>...</td>\n",
       "    </tr>\n",
       "    <tr>\n",
       "      <th>995</th>\n",
       "      <td>-1.079707</td>\n",
       "      <td>0.798373</td>\n",
       "      <td>1</td>\n",
       "      <td>2.025600</td>\n",
       "      <td>12.545803</td>\n",
       "      <td>4.888038</td>\n",
       "    </tr>\n",
       "    <tr>\n",
       "      <th>996</th>\n",
       "      <td>0.550541</td>\n",
       "      <td>0.010368</td>\n",
       "      <td>1</td>\n",
       "      <td>1.944260</td>\n",
       "      <td>-5.510572</td>\n",
       "      <td>5.830833</td>\n",
       "    </tr>\n",
       "    <tr>\n",
       "      <th>997</th>\n",
       "      <td>1.975929</td>\n",
       "      <td>0.269473</td>\n",
       "      <td>1</td>\n",
       "      <td>3.770674</td>\n",
       "      <td>-24.944807</td>\n",
       "      <td>18.453913</td>\n",
       "    </tr>\n",
       "    <tr>\n",
       "      <th>998</th>\n",
       "      <td>-0.007371</td>\n",
       "      <td>0.023332</td>\n",
       "      <td>0</td>\n",
       "      <td>-2.273461</td>\n",
       "      <td>-0.882945</td>\n",
       "      <td>-1.507773</td>\n",
       "    </tr>\n",
       "    <tr>\n",
       "      <th>999</th>\n",
       "      <td>0.553601</td>\n",
       "      <td>0.502714</td>\n",
       "      <td>1</td>\n",
       "      <td>3.313147</td>\n",
       "      <td>-6.995029</td>\n",
       "      <td>3.931236</td>\n",
       "    </tr>\n",
       "  </tbody>\n",
       "</table>\n",
       "<p>1000 rows × 6 columns</p>\n",
       "</div>"
      ],
      "text/plain": [
       "           x1        x2  x3        x4         x5    outcome\n",
       "0   -1.451602  0.753562   1  4.104114  16.338545   9.403554\n",
       "1    0.708100  0.041478   0 -0.616641  -8.945764  -0.310894\n",
       "2    1.593097  0.627988   1  2.107764 -19.439949   8.174084\n",
       "3   -0.837596  0.038860   1  2.745286   8.180159   4.413289\n",
       "4    1.929470  0.076839   1  3.530637 -23.366917  18.086722\n",
       "..        ...       ...  ..       ...        ...        ...\n",
       "995 -1.079707  0.798373   1  2.025600  12.545803   4.888038\n",
       "996  0.550541  0.010368   1  1.944260  -5.510572   5.830833\n",
       "997  1.975929  0.269473   1  3.770674 -24.944807  18.453913\n",
       "998 -0.007371  0.023332   0 -2.273461  -0.882945  -1.507773\n",
       "999  0.553601  0.502714   1  3.313147  -6.995029   3.931236\n",
       "\n",
       "[1000 rows x 6 columns]"
      ]
     },
     "execution_count": 5,
     "metadata": {},
     "output_type": "execute_result"
    }
   ],
   "source": [
    "import pandas as pd\n",
    "\n",
    "data = pd.read_csv('formative_data.csv')\n",
    "data"
   ]
  },
  {
   "cell_type": "code",
   "execution_count": 15,
   "metadata": {},
   "outputs": [],
   "source": [
    "# train test split\n",
    "from sklearn.model_selection import train_test_split\n",
    "X = data.drop('outcome', axis=1)\n",
    "y = data['outcome']\n",
    "X_train, X_test, y_train, y_test = train_test_split(X, y, test_size=0.2, random_state=42)"
   ]
  },
  {
   "cell_type": "code",
   "execution_count": 19,
   "metadata": {},
   "outputs": [
    {
     "name": "stdout",
     "output_type": "stream",
     "text": [
      "Mean Squared Error: 89.60973428956058\n",
      "R^2: -0.03809981385944394\n"
     ]
    }
   ],
   "source": [
    "from sklearn.linear_model import LinearRegression\n",
    "\n",
    "\n",
    "# Create a linear regression model\n",
    "model = LinearRegression()\n",
    "\n",
    "# Fit the model\n",
    "model.fit(X_train, y_train)\n",
    "\n",
    "# Predict the test data\n",
    "y_pred = model.predict(X_test)\n",
    "\n",
    "# Evaluate the model\n",
    "from sklearn.metrics import mean_squared_error, r2_score\n",
    "mse = mean_squared_error(y_test, y_pred)\n",
    "r2 = r2_score(y_test, y_pred)\n",
    "print(f'Mean Squared Error: {mse}')\n",
    "print(f'R^2: {r2}')"
   ]
  }
 ],
 "metadata": {
  "kernelspec": {
   "display_name": "lewagon",
   "language": "python",
   "name": "python3"
  },
  "language_info": {
   "codemirror_mode": {
    "name": "ipython",
    "version": 3
   },
   "file_extension": ".py",
   "mimetype": "text/x-python",
   "name": "python",
   "nbconvert_exporter": "python",
   "pygments_lexer": "ipython3",
   "version": "3.10.6"
  }
 },
 "nbformat": 4,
 "nbformat_minor": 2
}
